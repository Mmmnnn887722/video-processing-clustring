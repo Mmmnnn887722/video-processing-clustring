{
 "cells": [
  {
   "cell_type": "code",
   "execution_count": 3,
   "metadata": {},
   "outputs": [
    {
     "name": "stderr",
     "output_type": "stream",
     "text": [
      "/var/folders/dx/62n3h5k10q5d68qxvqdtsx4h0000gn/T/ipykernel_69578/2902600383.py:10: DeprecationWarning: Please use `gaussian_filter` from the `scipy.ndimage` namespace, the `scipy.ndimage.filters` namespace is deprecated.\n",
      "  from scipy.ndimage.filters import gaussian_filter\n"
     ]
    }
   ],
   "source": [
    "import numpy as np\n",
    "import pandas as pd\n",
    "import matplotlib.pyplot as plt\n",
    "import cv2\n",
    "import csv\n",
    "import os\n",
    "from skimage.metrics import structural_similarity as ssim\n",
    "from sklearn.decomposition import PCA\n",
    "from sklearn.cluster import KMeans\n",
    "from scipy.ndimage.filters import gaussian_filter\n",
    "import warnings\n",
    "import gc\n",
    "warnings.filterwarnings('ignore')\n"
   ]
  },
  {
   "cell_type": "code",
   "execution_count": 13,
   "metadata": {},
   "outputs": [],
   "source": [
    "def extract_key_frames(video_path, save_dir=\"SavedFrames\", csv_dir=\"CSVFiles\", n=1, similarity_threshold=0.95):\n",
    "    # Open the video file\n",
    "    video = cv2.VideoCapture(video_path)\n",
    "\n",
    "    # Initialize frame counter\n",
    "    count = 0\n",
    "\n",
    "    # Initialize variable to hold the previous frame\n",
    "    prev_frame = None\n",
    "\n",
    "    # Ensure the directories exist\n",
    "    for directory in [save_dir, csv_dir]:\n",
    "        if not os.path.exists(directory):\n",
    "            os.makedirs(directory)\n",
    "\n",
    "    # Specify the CSV file within the csv_dir\n",
    "    csv_file = os.path.join(csv_dir, \"timestamps.csv\")\n",
    "\n",
    "    # Check if video opened successfully\n",
    "    if not video.isOpened():\n",
    "        print(\"Error opening video file\")\n",
    "        return\n",
    "\n",
    "    # Open the CSV file in write mode\n",
    "    with open(csv_file, 'w', newline='') as file:\n",
    "        writer = csv.writer(file)\n",
    "        # Write the header to the CSV file\n",
    "        writer.writerow([\"Frame Name\", \"Timestamp\"])\n",
    "\n",
    "        # Loop until all frames are read\n",
    "        while video.isOpened():\n",
    "            # Read a frame\n",
    "            ret, frame = video.read()\n",
    "\n",
    "            # Only process every n-th frame\n",
    "            if ret and count % n == 0:\n",
    "                # Convert the frame to grayscale\n",
    "                gray_frame = cv2.cvtColor(frame, cv2.COLOR_BGR2GRAY)\n",
    "\n",
    "                # If this isn't the first frame, compare it to the previous one\n",
    "                if prev_frame is not None:\n",
    "                    # Compare the current frame with the previous frame\n",
    "                    similarity, _ = ssim(prev_frame, gray_frame, full=True)\n",
    "\n",
    "                    # If similarity is below the threshold, save the frame and log the timestamp\n",
    "                    if similarity < similarity_threshold:\n",
    "                        # Get the timestamp of the current frame (in milliseconds)\n",
    "                        timestamp = video.get(cv2.CAP_PROP_POS_MSEC)\n",
    "                        \n",
    "                        # Save the frame\n",
    "                        frame_name = f\"frame_{count}.png\"\n",
    "                        full_path = os.path.join(save_dir, frame_name)\n",
    "                        cv2.imwrite(full_path, frame)\n",
    "\n",
    "                        # Write the frame name and timestamp to the CSV file\n",
    "                        writer.writerow([frame_name, timestamp])\n",
    "\n",
    "                # Update prev_frame\n",
    "                prev_frame = gray_frame\n",
    "\n",
    "                count += 1\n",
    "\n",
    "            elif not ret:\n",
    "                \n",
    "                break\n",
    "\n",
    "    # Release the video file\n",
    "    video.release()\n",
    "\n",
    "# Call the function\n",
    "video_path = \"/Users/mohammedelsayed/Desktop/dessertaion files /clustring/video.mp4\"\n",
    "extract_key_frames(video_path)\n"
   ]
  },
  {
   "cell_type": "code",
   "execution_count": 4,
   "metadata": {},
   "outputs": [],
   "source": [
    "def extract_features(image_path):\n",
    "    image = cv2.imread(image_path)\n",
    "    # Convert to HSV color space\n",
    "    hsv = cv2.cvtColor(image, cv2.COLOR_BGR2HSV)\n",
    "    # Compute a 3D histogram in the HSV color space\n",
    "    hist = cv2.calcHist([hsv], [0, 1, 2], None, [8, 8, 8], [0, 180, 0, 256, 0, 256])\n",
    "    # Normalize and flatten the histogram\n",
    "    return cv2.normalize(hist, hist).flatten()\n",
    "\n",
    "frame_dir = \"/Users/mohammedelsayed/Desktop/dessertaion files /clustring/SavedFrames\"\n",
    "frame_files = [os.path.join(frame_dir, f) for f in os.listdir(frame_dir) if f.endswith('.png')]\n",
    "features = [extract_features(f) for f in frame_files]"
   ]
  },
  {
   "cell_type": "code",
   "execution_count": 5,
   "metadata": {},
   "outputs": [],
   "source": [
    "pca = PCA(n_components=50)  # You can adjust the number of components\n",
    "reduced_features = pca.fit_transform(features)"
   ]
  },
  {
   "cell_type": "code",
   "execution_count": 6,
   "metadata": {},
   "outputs": [],
   "source": [
    "kmeans = KMeans(n_clusters=10)\n",
    "clusters = kmeans.fit_predict(reduced_features)"
   ]
  },
  {
   "cell_type": "code",
   "execution_count": 7,
   "metadata": {},
   "outputs": [
    {
     "data": {
      "image/png": "[encoded data removed]",
      "text/plain": [
       "<Figure size 1000x600 with 1 Axes>"
      ]
     },
     "metadata": {},
     "output_type": "display_data"
    }
   ],
   "source": [
    "distortions = []\n",
    "K = range(1, 30)  \n",
    "for k in K:\n",
    "    kmeanModel = KMeans(n_clusters=k)\n",
    "    kmeanModel.fit(reduced_features)\n",
    "    distortions.append(kmeanModel.inertia_)\n",
    "\n",
    "# Plotting the distortions to visualize the \"elbow\"\n",
    "plt.figure(figsize=(10,6))\n",
    "plt.plot(K, distortions, 'bx-')\n",
    "plt.xlabel('k')\n",
    "plt.ylabel('Distortion')\n",
    "plt.title('The Elbow Method showing the optimal k')\n",
    "plt.show()\n"
   ]
  },
  {
   "cell_type": "code",
   "execution_count": 8,
   "metadata": {},
   "outputs": [],
   "source": [
    "def closest_frame_to_centroid(cluster_center, features):\n",
    "    \"\"\"Return the index of the frame closest to the cluster centroid.\"\"\"\n",
    "    distances = np.linalg.norm(features - cluster_center, axis=1)\n",
    "    return np.argmin(distances)\n",
    "\n",
    "# After clustering\n",
    "optimal_clusters = KMeans(n_clusters=10)  \n",
    "optimal_clusters.fit(reduced_features)\n",
    "\n",
    "key_frame_indices = [closest_frame_to_centroid(center, reduced_features) for center in optimal_clusters.cluster_centers_]\n",
    "\n",
    "# Saving the key frames\n",
    "key_frame_dir = \"KEY_FRAMES\"  \n",
    "if not os.path.exists(key_frame_dir):\n",
    "    os.makedirs(key_frame_dir)\n",
    "\n",
    "for index in key_frame_indices:\n",
    "    key_frame_path = frame_files[index]\n",
    "    destination_path = os.path.join(key_frame_dir, os.path.basename(key_frame_path))\n",
    "    cv2.imwrite(destination_path, cv2.imread(key_frame_path))\n"
   ]
  },
  {
   "cell_type": "code",
   "execution_count": 9,
   "metadata": {},
   "outputs": [],
   "source": [
    "# Load the gaze data and timestamps\n",
    "gaze_data_path = \"/Users/mohammedelsayed/Desktop/dessertaion files /clustring/001_Wu,yu Hsuan.csv\"  \n",
    "df_gaze = pd.read_csv(gaze_data_path)\n",
    "df_timestamps = pd.read_csv(\"/Users/mohammedelsayed/Desktop/dessertaion files /clustring/CSVFiles/timestamps.csv\")  \n",
    "\n",
    "# 1. Extract the list of key frames from the directory\n",
    "key_frame_dir = \"/Users/mohammedelsayed/Desktop/dessertaion files /clustring/KEY_FRAMES\"\n",
    "key_frame_files = [f for f in os.listdir(key_frame_dir) if f.endswith('.png')]\n",
    "\n",
    "# 2. Match these key frames with their timestamps\n",
    "key_frame_timestamps = df_timestamps[df_timestamps['Frame Name'].isin(key_frame_files)]\n",
    "\n",
    "# 3. Filter the gaze data for each key frame's timestamp and save them\n",
    "save_dir = \"data_for_key_frames\"\n",
    "if not os.path.exists(save_dir):\n",
    "    os.makedirs(save_dir)\n",
    "\n",
    "for i, row in key_frame_timestamps.iterrows():\n",
    "    start_time = row['Timestamp']\n",
    "    end_time = key_frame_timestamps.iloc[i + 1]['Timestamp'] if i < len(key_frame_timestamps) - 1 else float('inf')\n",
    "    \n",
    "    # Filter the gaze data for this time interval\n",
    "    filtered_gaze = df_gaze[(df_gaze['Timestamp'] >= start_time) & (df_gaze['Timestamp'] < end_time)]\n",
    "    \n",
    "    # Save the filtered gaze data\n",
    "    filtered_gaze.to_csv(os.path.join(save_dir, f\"gaze_data_for_{row['Frame Name'].replace('.png', '.csv')}\"), index=False)\n"
   ]
  },
  {
   "cell_type": "code",
   "execution_count": 10,
   "metadata": {},
   "outputs": [
    {
     "name": "stdout",
     "output_type": "stream",
     "text": [
      "Heatmaps generated and saved!\n"
     ]
    }
   ],
   "source": [
    "\n",
    "key_frame_dir = \"/Users/mohammedelsayed/Desktop/dessertaion files /clustring/KEY_FRAMES\"\n",
    "gaze_data_dir = \"/Users/mohammedelsayed/Desktop/dessertaion files /clustring/data_for_key_frames\"\n",
    "output_dir = \"heatmaps\"\n",
    "\n",
    "# Ensure the output directory exists\n",
    "if not os.path.exists(output_dir):\n",
    "    os.makedirs(output_dir)\n",
    "\n",
    "# Iterate over each key frame\n",
    "for frame_name in os.listdir(key_frame_dir):\n",
    "    if frame_name.endswith('.png'):\n",
    "        \n",
    "        # Load the key frame\n",
    "        frame_path = os.path.join(key_frame_dir, frame_name)\n",
    "        frame_img = cv2.cvtColor(cv2.imread(frame_path), cv2.COLOR_BGR2RGB)\n",
    "        \n",
    "        # Load the corresponding gaze data\n",
    "        gaze_data_name = f\"gaze_data_for_{frame_name.replace('.png', '.csv')}\"\n",
    "        gaze_data_path = os.path.join(gaze_data_dir, gaze_data_name)\n",
    "        gaze_data = pd.read_csv(gaze_data_path)\n",
    "        \n",
    "        # Compute the mean X and Y gaze coordinates\n",
    "        gaze_data['Mean_X'] = (gaze_data['ET_GazeRightx'] + gaze_data['ET_GazeLeftx']) / 2\n",
    "        gaze_data['Mean_Y'] = (gaze_data['ET_GazeLefty'] + gaze_data['ET_GazeRighty']) / 2\n",
    "        \n",
    "        # Filter out NaN values\n",
    "        gaze_data = gaze_data.dropna(subset=['Mean_X', 'Mean_Y'])\n",
    "        \n",
    "        # Generate a density heatmap\n",
    "        heatmap_density = np.zeros_like(frame_img[:, :, 0], dtype=np.float32)\n",
    "        for x, y in zip(gaze_data['Mean_X'], gaze_data['Mean_Y']):\n",
    "            if 0 <= int(y) < heatmap_density.shape[0] and 0 <= int(x) < heatmap_density.shape[1]:\n",
    "                heatmap_density[int(y), int(x)] += 1\n",
    "        heatmap_density = gaussian_filter(heatmap_density, sigma=(30, 30))\n",
    "        \n",
    "        # Combine the frame and heatmap\n",
    "        plt.figure(figsize=(10, 10))\n",
    "        plt.imshow(frame_img)\n",
    "        plt.imshow(heatmap_density, alpha=0.6, cmap='hot')\n",
    "        plt.axis('off')\n",
    "        \n",
    "        # Save the heatmap\n",
    "        output_path = os.path.join(output_dir, f\"heatmap_for_{frame_name}\")\n",
    "        plt.savefig(output_path, bbox_inches='tight', pad_inches=0)\n",
    "        plt.close()\n",
    "\n",
    "print(\"Heatmaps generated and saved!\")\n"
   ]
  }
 ],
 "metadata": {
  "kernelspec": {
   "display_name": "Python 3",
   "language": "python",
   "name": "python3"
  },
  "language_info": {
   "codemirror_mode": {
    "name": "ipython",
    "version": 3
   },
   "file_extension": ".py",
   "mimetype": "text/x-python",
   "name": "python",
   "nbconvert_exporter": "python",
   "pygments_lexer": "ipython3",
   "version": "3.10.8"
  },
  "orig_nbformat": 4
 },
 "nbformat": 4,
 "nbformat_minor": 2
}
